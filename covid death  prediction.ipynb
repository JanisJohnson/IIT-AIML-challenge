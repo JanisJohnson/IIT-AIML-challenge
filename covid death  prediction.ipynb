{
  "nbformat": 4,
  "nbformat_minor": 0,
  "metadata": {
    "colab": {
      "provenance": []
    },
    "kernelspec": {
      "name": "python3",
      "display_name": "Python 3"
    },
    "language_info": {
      "name": "python"
    }
  },
  "cells": [
    {
      "cell_type": "code",
      "execution_count": null,
      "metadata": {
        "id": "GyZgGg7ueZ1E"
      },
      "outputs": [],
      "source": [
        "import pandas as pd\n",
        "import numpy as np\n",
        "from sklearn.model_selection import train_test_split\n",
        "from sklearn.ensemble import RandomForestRegressor\n",
        "from sklearn.metrics import mean_absolute_error\n",
        "train_df = pd.read_csv(\"train_data_covid.csv\")\n",
        "test_df = pd.read_csv(\"test_data_covid.csv\")\n",
        "train_df.replace('-', np.nan, inplace=True)  # Replace '-' with NaN\n",
        "train_df.fillna(0, inplace=True)\n",
        "train_df['ActiveCases'] = train_df['Confirmed'] - train_df['Cured'] - train_df['Deaths']\n",
        "X_train = train_df.drop(columns=['Deaths', 'State/UnionTerritory','Date','Time'])  # Features\n",
        "y_train = train_df['Deaths']\n",
        "model = RandomForestRegressor(n_estimators=100, random_state=42)\n",
        "model.fit(X_train, y_train)\n",
        "RandomForestRegressor(random_state=42)\n",
        "test_df.drop(columns=['Time'], inplace=True)\n",
        "test_df.replace('-', np.nan, inplace=True)  # Replace '-' with NaN\n",
        "test_df.fillna(0, inplace=True)\n",
        "test_df['ActiveCases'] = test_df['Confirmed'] - test_df['Cured']\n",
        "X_test_data = test_df.drop(columns=['State/UnionTerritory', 'Date'])\n",
        "y_pred_test = model.predict(X_test_data)\n",
        "predicted_df = pd.DataFrame({'Sno': test_df['Sno'], 'Deaths': y_pred_test})\n",
        "predicted_df.to_csv(\"predicted_test_data.csv\", index=False)"
      ]
    }
  ]
}